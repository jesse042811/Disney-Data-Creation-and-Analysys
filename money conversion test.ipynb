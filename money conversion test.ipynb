{
 "cells": [
  {
   "cell_type": "code",
   "execution_count": 13,
   "id": "b0eaf1f4",
   "metadata": {},
   "outputs": [
    {
     "ename": "ModuleNotFoundError",
     "evalue": "No module named 'data_creation'",
     "output_type": "error",
     "traceback": [
      "\u001b[0;31m---------------------------------------------------------------------------\u001b[0m",
      "\u001b[0;31mModuleNotFoundError\u001b[0m                       Traceback (most recent call last)",
      "\u001b[0;32m/var/folders/w9/3qn8l5w92nv2fqp_5xy1rrww0000gp/T/ipykernel_58905/2167819909.py\u001b[0m in \u001b[0;36m<module>\u001b[0;34m\u001b[0m\n\u001b[1;32m      1\u001b[0m \u001b[0;32mimport\u001b[0m \u001b[0mpytest\u001b[0m\u001b[0;34m\u001b[0m\u001b[0;34m\u001b[0m\u001b[0m\n\u001b[0;32m----> 2\u001b[0;31m \u001b[0;32mfrom\u001b[0m \u001b[0mdata_creation\u001b[0m \u001b[0;32mimport\u001b[0m \u001b[0;34m*\u001b[0m\u001b[0;34m\u001b[0m\u001b[0;34m\u001b[0m\u001b[0m\n\u001b[0m\u001b[1;32m      3\u001b[0m \u001b[0;34m\u001b[0m\u001b[0m\n\u001b[1;32m      4\u001b[0m \u001b[0;32mdef\u001b[0m \u001b[0mtest_standard\u001b[0m\u001b[0;34m(\u001b[0m\u001b[0;34m)\u001b[0m\u001b[0;34m:\u001b[0m\u001b[0;34m\u001b[0m\u001b[0;34m\u001b[0m\u001b[0m\n\u001b[1;32m      5\u001b[0m         \u001b[0;32massert\u001b[0m \u001b[0mmoney_conversion\u001b[0m\u001b[0;34m(\u001b[0m\u001b[0;34m\"$3 million\"\u001b[0m\u001b[0;34m)\u001b[0m \u001b[0;34m==\u001b[0m \u001b[0;36m3000000\u001b[0m\u001b[0;34m\u001b[0m\u001b[0;34m\u001b[0m\u001b[0m\n",
      "\u001b[0;31mModuleNotFoundError\u001b[0m: No module named 'data_creation'"
     ]
    }
   ],
   "source": [
    "import pytest\n",
    "from data_creation import money_conversion\n",
    "\n",
    "def test_standard():\n",
    "\tassert money_conversion(\"$3 million\") == 3000000\n",
    "\n",
    "def test_standard_double_digit():\n",
    "\tassert money_conversion(\"$99 million\") == 99000000\n",
    "\n",
    "def test_standard_with_decimal():\n",
    "\tassert money_conversion(\"$3.5 million\") == 3500000\n",
    "\n",
    "def test_standard_multiple_decimals():\n",
    "\tassert money_conversion(\"$1.234 million\") == 1234000\n",
    "\n",
    "def test_standard_billion():\n",
    "\tassert money_conversion(\"$1.25 billion\") == 1250000000\n",
    "\n",
    "def test_standard_thousand():\n",
    "\tassert money_conversion(\"$900.9 thousand\") == 900900\n",
    "\n",
    "def test_range():\n",
    "\tassert money_conversion(\"$3.5-4 million\") == 3500000\n",
    "\n",
    "def test_range_with_to():\n",
    "\tassert money_conversion(\"$3.5 to 4 million\") == 3500000\n",
    "\n",
    "def test_number():\n",
    "\tassert money_conversion(\"$950000\") == 950000\n",
    "\n",
    "def test_number_with_commas():\n",
    "\tassert money_conversion(\"$127,850,000\") == 127850000\n",
    "\n",
    "def test_number_with_commas_and_decimals():\n",
    "\tassert money_conversion(\"$10,000,000.50\") == 10000000.5\n",
    "\n",
    "def test_number_with_commas_middle():\n",
    "\tassert money_conversion(\"estimated $5,000,000 (USD)\") == 5000000\n",
    "\n",
    "def test_other_currency():\n",
    "\tassert money_conversion(\"60 million Norwegian Kroner (around $8.7 million in 1989)\") == 8700000\n",
    "\n",
    "def test_list():\n",
    "\tassert money_conversion(['$410.6 million (gross)', '$378.5 million (net)']) == 410600000\n",
    "\n",
    "def test_unkown():\n",
    "\tassert money_conversion(\"70 crore\") is None"
   ]
  }
 ],
 "metadata": {
  "kernelspec": {
   "display_name": "Python 3 (ipykernel)",
   "language": "python",
   "name": "python3"
  },
  "language_info": {
   "codemirror_mode": {
    "name": "ipython",
    "version": 3
   },
   "file_extension": ".py",
   "mimetype": "text/x-python",
   "name": "python",
   "nbconvert_exporter": "python",
   "pygments_lexer": "ipython3",
   "version": "3.9.7"
  }
 },
 "nbformat": 4,
 "nbformat_minor": 5
}
